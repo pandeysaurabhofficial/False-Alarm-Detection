{
 "cells": [
  {
   "cell_type": "code",
   "execution_count": 1,
   "metadata": {},
   "outputs": [
    {
     "name": "stderr",
     "output_type": "stream",
     "text": [
      "C:\\ProgramData\\Anaconda3\\lib\\site-packages\\sklearn\\externals\\joblib\\__init__.py:15: FutureWarning: sklearn.externals.joblib is deprecated in 0.21 and will be removed in 0.23. Please import this functionality directly from joblib, which can be installed with: pip install joblib. If this warning is raised when loading pickled models, you may need to re-serialize those models with scikit-learn 0.21+.\n",
      "  warnings.warn(msg, category=FutureWarning)\n"
     ]
    }
   ],
   "source": [
    "# load all the required libraries\n",
    "from flask import Flask,jsonify,request\n",
    "import pandas as pd\n",
    "import seaborn as sns\n",
    "from sklearn.linear_model import LogisticRegression\n",
    "from sklearn.externals import joblib\n",
    "import numpy as np"
   ]
  },
  {
   "cell_type": "code",
   "execution_count": 2,
   "metadata": {},
   "outputs": [],
   "source": [
    "# create object \n",
    "app = Flask(__name__)"
   ]
  },
  {
   "cell_type": "code",
   "execution_count": 3,
   "metadata": {},
   "outputs": [],
   "source": [
    "# create end point to  train your model and save training data in pickle file\n",
    "@app.route('/train_model')\n",
    "def train():\n",
    "    data = pd.read_excel('False Alarm Cases.xlsx')\n",
    "    x = data.iloc[:,1:7]\n",
    "    y = data['Spuriosity Index(0/1)']\n",
    "    logm = LogisticRegression()\n",
    "    logm.fit(x,y)\n",
    "    joblib.dump(logm,'train.pkl')\n",
    "    return \"Model trained successfully\"\n",
    "    "
   ]
  },
  {
   "cell_type": "code",
   "execution_count": 4,
   "metadata": {},
   "outputs": [],
   "source": [
    "#  load pickle file and test your model, pass test data via POSt method\n",
    "#  First we need to load pickle file for it to get training data ref\n",
    "@app.route('/test_model', methods = ['POST'])\n",
    "def test():\n",
    "    pkl_file = joblib.load('train.pkl')\n",
    "    test_data = request.get_json()\n",
    "    f1 = test_data['Ambient Temperature']\n",
    "    f2 = test_data['Calibration']\n",
    "    f3 = test_data['Unwanted substance deposition']\n",
    "    f4 = test_data['Humidity']\n",
    "    f5 = test_data['H2S Content']\n",
    "    f6 = test_data['detected by']\n",
    "    my_test_data = [f1,f2,f3,f4,f5,f6]\n",
    "    my_data_array = np.array(my_test_data)\n",
    "    test_array = my_data_array.reshape(1,6)\n",
    "    df_test = pd.DataFrame(test_array, columns=['Ambient Temperature','Calibration','Unwanted substance deposition','Humidity','H2S Content','detected by'])\n",
    "    y_pred = pkl_file.predict(df_test)\n",
    "    \n",
    "    if y_pred == 1:\n",
    "        return \"False Alarm, No Danger\"\n",
    "    else:\n",
    "        return \"True Alarm, Danger \"\n",
    "    "
   ]
  },
  {
   "cell_type": "code",
   "execution_count": null,
   "metadata": {},
   "outputs": [
    {
     "name": "stdout",
     "output_type": "stream",
     "text": [
      " * Serving Flask app \"__main__\" (lazy loading)\n",
      " * Environment: production\n",
      "   WARNING: This is a development server. Do not use it in a production deployment.\n",
      "   Use a production WSGI server instead.\n",
      " * Debug mode: off\n"
     ]
    },
    {
     "name": "stderr",
     "output_type": "stream",
     "text": [
      " * Running on http://127.0.0.1:5000/ (Press CTRL+C to quit)\n",
      "127.0.0.1 - - [30/Jul/2020 21:44:46] \"\u001b[33mGET / HTTP/1.1\u001b[0m\" 404 -\n"
     ]
    }
   ],
   "source": [
    "#  run the application on port \n",
    "app.run(port=5000)"
   ]
  },
  {
   "cell_type": "code",
   "execution_count": null,
   "metadata": {},
   "outputs": [],
   "source": []
  },
  {
   "cell_type": "code",
   "execution_count": null,
   "metadata": {},
   "outputs": [],
   "source": []
  },
  {
   "cell_type": "code",
   "execution_count": null,
   "metadata": {},
   "outputs": [],
   "source": []
  }
 ],
 "metadata": {
  "kernelspec": {
   "display_name": "Python 3",
   "language": "python",
   "name": "python3"
  },
  "language_info": {
   "codemirror_mode": {
    "name": "ipython",
    "version": 3
   },
   "file_extension": ".py",
   "mimetype": "text/x-python",
   "name": "python",
   "nbconvert_exporter": "python",
   "pygments_lexer": "ipython3",
   "version": "3.7.6"
  }
 },
 "nbformat": 4,
 "nbformat_minor": 2
}
